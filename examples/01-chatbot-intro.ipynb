{
 "cells": [
  {
   "cell_type": "markdown",
   "metadata": {},
   "source": [
    "# First steps with the Chatbot kernel\n",
    "\n",
    "On an empty bot there is nothing to do. So any input will just return the general help message"
   ]
  },
  {
   "cell_type": "code",
   "execution_count": 1,
   "metadata": {
    "collapsed": false
   },
   "outputs": [
    {
     "data": {
      "text/html": [
       "<div class=\"krn-bot\"><div class=\"help\">AIML Chatbot<br/><br/>You can start by loading a database of rules:<br/><br/>%learn alice | standard | &lt;dbdirectory&gt; | &lt;xml-file&gt;<br/><br/>For &quot;alice&quot; &amp; &quot;standard&quot; databases, the rules will<br/>automatically be activated. For a custom database,<br/>you will need to launch the &quot;load &lt;name&gt;&quot; command<br/>defined in it.<br/><br/>Once loaded, you can start chatting with the bot. <br/><br/>New databases can be added by additional &quot;%learn&quot; commands.<br/><br/>Use &quot;%lsmagic&quot; to see all the available magics.<br/></div></div>"
      ],
      "text/plain": [
       "AIML Chatbot\n",
       "\n",
       "You can start by loading a database of rules:\n",
       "\n",
       "%learn alice | standard | <dbdirectory> | <xml-file>\n",
       "\n",
       "For \"alice\" & \"standard\" databases, the rules will\n",
       "automatically be activated. For a custom database,\n",
       "you will need to launch the \"load <name>\" command\n",
       "defined in it.\n",
       "\n",
       "Once loaded, you can start chatting with the bot. \n",
       "\n",
       "New databases can be added by additional \"%learn\" commands.\n",
       "\n",
       "Use \"%lsmagic\" to see all the available magics.\n"
      ]
     },
     "metadata": {},
     "output_type": "display_data"
    }
   ],
   "source": [
    "Hello"
   ]
  },
  {
   "cell_type": "markdown",
   "metadata": {},
   "source": [
    "## Getting help\n",
    "\n",
    "This same help message can be obtained by using the `%help` magic command\n"
   ]
  },
  {
   "cell_type": "code",
   "execution_count": 2,
   "metadata": {
    "collapsed": false
   },
   "outputs": [
    {
     "data": {
      "text/html": [
       "<div class=\"krn-bot\"><div class=\"help\">AIML Chatbot<br/><br/>You can start by loading a database of rules:<br/><br/>%learn alice | standard | &lt;dbdirectory&gt; | &lt;xml-file&gt;<br/><br/>For &quot;alice&quot; &amp; &quot;standard&quot; databases, the rules will<br/>automatically be activated. For a custom database,<br/>you will need to launch the &quot;load &lt;name&gt;&quot; command<br/>defined in it.<br/><br/>Once loaded, you can start chatting with the bot. <br/><br/>New databases can be added by additional &quot;%learn&quot; commands.<br/><br/>Use &quot;%lsmagic&quot; to see all the available magics.<br/></div></div>"
      ],
      "text/plain": [
       "AIML Chatbot\n",
       "\n",
       "You can start by loading a database of rules:\n",
       "\n",
       "%learn alice | standard | <dbdirectory> | <xml-file>\n",
       "\n",
       "For \"alice\" & \"standard\" databases, the rules will\n",
       "automatically be activated. For a custom database,\n",
       "you will need to launch the \"load <name>\" command\n",
       "defined in it.\n",
       "\n",
       "Once loaded, you can start chatting with the bot. \n",
       "\n",
       "New databases can be added by additional \"%learn\" commands.\n",
       "\n",
       "Use \"%lsmagic\" to see all the available magics.\n"
      ]
     },
     "metadata": {},
     "output_type": "display_data"
    }
   ],
   "source": [
    "%help"
   ]
  },
  {
   "cell_type": "markdown",
   "metadata": {},
   "source": [
    "And the `%lsmagics` command lists all available magics"
   ]
  },
  {
   "cell_type": "code",
   "execution_count": 3,
   "metadata": {
    "collapsed": false,
    "scrolled": true
   },
   "outputs": [
    {
     "data": {
      "text/html": [
       "<div class=\"krn-bot\"><div class=\"help\">Available magics:<br/>%aiml  %forget  %help  %learn  %lsmagics  %setp  %show session  %show size<br/><br/>%aiml  : add additional AIML rules<br/>%forget  : reset the bot<br/>%help  : show general help<br/>%learn alice | standard | &lt;dbdirectory&gt; | &lt;xml-file&gt; : learn an AIML db<br/>%lsmagics  : list all magics<br/>%setp [bot] &lt;name&gt; &lt;value&gt; : set a predicate, or a bot predicate<br/>%show session  : show the predicates defined in the session<br/>%show size  : show the number of categories loaded in the bot</div></div>"
      ],
      "text/plain": [
       "Available magics:\n",
       "%aiml  %forget  %help  %learn  %lsmagics  %setp  %show session  %show size\n",
       "\n",
       "%aiml  : add additional AIML rules\n",
       "%forget  : reset the bot\n",
       "%help  : show general help\n",
       "%learn alice | standard | <dbdirectory> | <xml-file> : learn an AIML db\n",
       "%lsmagics  : list all magics\n",
       "%setp [bot] <name> <value> : set a predicate, or a bot predicate\n",
       "%show session  : show the predicates defined in the session\n",
       "%show size  : show the number of categories loaded in the bot"
      ]
     },
     "metadata": {},
     "output_type": "display_data"
    }
   ],
   "source": [
    "%lsmagic"
   ]
  },
  {
   "cell_type": "markdown",
   "metadata": {},
   "source": [
    "## Learning\n",
    "\n",
    "The most important of these is the `%learn` magic, which loads an AIML database into the bot.\n",
    "\n",
    "There are three versions for that:\n",
    "* Learning a predefined database: use `%learn alice` or `%learn standard`. AIML categories will be automatically loaded.\n",
    "* Learning a custom database: use `%learn <directory>` where _directory_ is a directory containing a set of AIML files to learn, plus an `startup.xml` file referencing them. A `load <name>` command is needed afterwards to load the learned rules into the bot\n",
    "* Learning a single AIML file: use `%learn <file.xml>` or `%learn <file.aiml>`\n",
    "\n",
    "See [02-chatbot-alice.ipynb](02-chatbot-alice.ipynb) for an example of the first version.\n",
    "\n",
    "An additional way of creating rules is by writing them in the notebook itself, using the `%aiml` magic."
   ]
  }
 ],
 "metadata": {
  "kernelspec": {
   "display_name": "AIML Chatbot",
   "language": "chatbot",
   "name": "aimlbotkernel"
  },
  "language_info": {
   "mimetype": "text/xml",
   "name": "Chatbot"
  }
 },
 "nbformat": 4,
 "nbformat_minor": 0
}
